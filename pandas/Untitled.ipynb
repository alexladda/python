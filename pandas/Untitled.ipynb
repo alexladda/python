{
 "cells": [
  {
   "cell_type": "code",
   "execution_count": 1,
   "id": "13d28932",
   "metadata": {},
   "outputs": [
    {
     "name": "stdout",
     "output_type": "stream",
     "text": [
      "hello\n"
     ]
    }
   ],
   "source": [
    "print('hello')"
   ]
  },
  {
   "cell_type": "code",
   "execution_count": 2,
   "id": "6af8b579",
   "metadata": {},
   "outputs": [],
   "source": [
    "mystring = 'this sentence'"
   ]
  },
  {
   "cell_type": "code",
   "execution_count": 4,
   "id": "1b79a8c1",
   "metadata": {},
   "outputs": [
    {
     "name": "stdout",
     "output_type": "stream",
     "text": [
      "this \n"
     ]
    }
   ],
   "source": [
    "print(mystring[:5])"
   ]
  },
  {
   "cell_type": "code",
   "execution_count": null,
   "id": "5b2a2427",
   "metadata": {},
   "outputs": [],
   "source": []
  }
 ],
 "metadata": {
  "kernelspec": {
   "display_name": "Python 3",
   "language": "python",
   "name": "python3"
  },
  "language_info": {
   "codemirror_mode": {
    "name": "ipython",
    "version": 3
   },
   "file_extension": ".py",
   "mimetype": "text/x-python",
   "name": "python",
   "nbconvert_exporter": "python",
   "pygments_lexer": "ipython3",
   "version": "3.9.2"
  }
 },
 "nbformat": 4,
 "nbformat_minor": 5
}
