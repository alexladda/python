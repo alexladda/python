{
 "cells": [
  {
   "cell_type": "markdown",
   "id": "a17f34bb",
   "metadata": {},
   "source": [
    "# Operate on Numpy Arrays"
   ]
  },
  {
   "cell_type": "code",
   "execution_count": 1,
   "id": "431e5e9b",
   "metadata": {},
   "outputs": [],
   "source": [
    "import numpy as np"
   ]
  },
  {
   "cell_type": "markdown",
   "id": "40001430",
   "metadata": {},
   "source": [
    "numerical operations with **scalars** (add, substract, multiply, divide)"
   ]
  },
  {
   "cell_type": "code",
   "execution_count": 4,
   "id": "ef0b31c7",
   "metadata": {},
   "outputs": [],
   "source": [
    "array = np.arange(3,15)"
   ]
  },
  {
   "cell_type": "code",
   "execution_count": 5,
   "id": "8a093838",
   "metadata": {},
   "outputs": [
    {
     "data": {
      "text/plain": [
       "array([ 3,  4,  5,  6,  7,  8,  9, 10, 11, 12, 13, 14])"
      ]
     },
     "execution_count": 5,
     "metadata": {},
     "output_type": "execute_result"
    }
   ],
   "source": [
    "array"
   ]
  },
  {
   "cell_type": "code",
   "execution_count": 6,
   "id": "feb903fc",
   "metadata": {},
   "outputs": [
    {
     "data": {
      "text/plain": [
       "array([ 8,  9, 10, 11, 12, 13, 14, 15, 16, 17, 18, 19])"
      ]
     },
     "execution_count": 6,
     "metadata": {},
     "output_type": "execute_result"
    }
   ],
   "source": [
    "array + 5"
   ]
  },
  {
   "cell_type": "code",
   "execution_count": 9,
   "id": "b7668595",
   "metadata": {},
   "outputs": [
    {
     "data": {
      "text/plain": [
       "array([ 0,  1,  2,  3,  4,  5,  6,  7,  8,  9, 10, 11])"
      ]
     },
     "execution_count": 9,
     "metadata": {},
     "output_type": "execute_result"
    }
   ],
   "source": [
    "array - 3"
   ]
  },
  {
   "cell_type": "code",
   "execution_count": 10,
   "id": "4ab45317",
   "metadata": {},
   "outputs": [
    {
     "data": {
      "text/plain": [
       "array([0.6, 0.8, 1. , 1.2, 1.4, 1.6, 1.8, 2. , 2.2, 2.4, 2.6, 2.8])"
      ]
     },
     "execution_count": 10,
     "metadata": {},
     "output_type": "execute_result"
    }
   ],
   "source": [
    "array / 5"
   ]
  },
  {
   "cell_type": "code",
   "execution_count": 11,
   "id": "fa3f108a",
   "metadata": {},
   "outputs": [
    {
     "data": {
      "text/plain": [
       "array([18, 24, 30, 36, 42, 48, 54, 60, 66, 72, 78, 84])"
      ]
     },
     "execution_count": 11,
     "metadata": {},
     "output_type": "execute_result"
    }
   ],
   "source": [
    "array * 6"
   ]
  },
  {
   "cell_type": "code",
   "execution_count": 14,
   "id": "33e876b0",
   "metadata": {},
   "outputs": [
    {
     "data": {
      "text/plain": [
       "array([1.73205081, 2.        , 2.23606798, 2.44948974, 2.64575131,\n",
       "       2.82842712, 3.        , 3.16227766, 3.31662479, 3.46410162,\n",
       "       3.60555128, 3.74165739])"
      ]
     },
     "execution_count": 14,
     "metadata": {},
     "output_type": "execute_result"
    }
   ],
   "source": [
    "array ** (1/2)"
   ]
  },
  {
   "cell_type": "code",
   "execution_count": 15,
   "id": "2fd2323d",
   "metadata": {},
   "outputs": [
    {
     "data": {
      "text/plain": [
       "array([  9,  16,  25,  36,  49,  64,  81, 100, 121, 144, 169, 196])"
      ]
     },
     "execution_count": 15,
     "metadata": {},
     "output_type": "execute_result"
    }
   ],
   "source": [
    "array ** 2"
   ]
  },
  {
   "cell_type": "markdown",
   "id": "a41d3c27",
   "metadata": {},
   "source": [
    "numerical operations with **arrays** (add, substract, multiply, divide)"
   ]
  },
  {
   "cell_type": "code",
   "execution_count": 20,
   "id": "ef286811",
   "metadata": {},
   "outputs": [],
   "source": [
    "array_2 = np.arange(5,17)"
   ]
  },
  {
   "cell_type": "code",
   "execution_count": 21,
   "id": "43900df6",
   "metadata": {},
   "outputs": [
    {
     "data": {
      "text/plain": [
       "array([ 5,  6,  7,  8,  9, 10, 11, 12, 13, 14, 15, 16])"
      ]
     },
     "execution_count": 21,
     "metadata": {},
     "output_type": "execute_result"
    }
   ],
   "source": [
    "array_2"
   ]
  },
  {
   "cell_type": "code",
   "execution_count": 22,
   "id": "1b5aa3e4",
   "metadata": {},
   "outputs": [
    {
     "data": {
      "text/plain": [
       "array([ 3,  4,  5,  6,  7,  8,  9, 10, 11, 12, 13, 14])"
      ]
     },
     "execution_count": 22,
     "metadata": {},
     "output_type": "execute_result"
    }
   ],
   "source": [
    "array"
   ]
  },
  {
   "cell_type": "code",
   "execution_count": 23,
   "id": "63ea8463",
   "metadata": {},
   "outputs": [
    {
     "data": {
      "text/plain": [
       "array([ 8, 10, 12, 14, 16, 18, 20, 22, 24, 26, 28, 30])"
      ]
     },
     "execution_count": 23,
     "metadata": {},
     "output_type": "execute_result"
    }
   ],
   "source": [
    "array + array_2"
   ]
  },
  {
   "cell_type": "code",
   "execution_count": 24,
   "id": "a4498330",
   "metadata": {},
   "outputs": [
    {
     "data": {
      "text/plain": [
       "array([-2, -2, -2, -2, -2, -2, -2, -2, -2, -2, -2, -2])"
      ]
     },
     "execution_count": 24,
     "metadata": {},
     "output_type": "execute_result"
    }
   ],
   "source": [
    "array - array_2"
   ]
  },
  {
   "cell_type": "code",
   "execution_count": 25,
   "id": "f544cd05",
   "metadata": {},
   "outputs": [
    {
     "data": {
      "text/plain": [
       "array([ 15,  24,  35,  48,  63,  80,  99, 120, 143, 168, 195, 224])"
      ]
     },
     "execution_count": 25,
     "metadata": {},
     "output_type": "execute_result"
    }
   ],
   "source": [
    "array * array_2"
   ]
  },
  {
   "cell_type": "code",
   "execution_count": 26,
   "id": "c6076650",
   "metadata": {},
   "outputs": [
    {
     "data": {
      "text/plain": [
       "array([0.6       , 0.66666667, 0.71428571, 0.75      , 0.77777778,\n",
       "       0.8       , 0.81818182, 0.83333333, 0.84615385, 0.85714286,\n",
       "       0.86666667, 0.875     ])"
      ]
     },
     "execution_count": 26,
     "metadata": {},
     "output_type": "execute_result"
    }
   ],
   "source": [
    "array / array_2"
   ]
  },
  {
   "cell_type": "markdown",
   "id": "7f05c3bc",
   "metadata": {},
   "source": [
    "operation functions (dot product, transform, sum, mean, median, standard deviation, sort)"
   ]
  },
  {
   "cell_type": "code",
   "execution_count": 28,
   "id": "f58e350e",
   "metadata": {},
   "outputs": [],
   "source": [
    "array_2d = np.array([[2,6,4],[7,5,3],[1,8,9]])"
   ]
  },
  {
   "cell_type": "code",
   "execution_count": 29,
   "id": "8846fcd8",
   "metadata": {},
   "outputs": [
    {
     "data": {
      "text/plain": [
       "array([[2, 6, 4],\n",
       "       [7, 5, 3],\n",
       "       [1, 8, 9]])"
      ]
     },
     "execution_count": 29,
     "metadata": {},
     "output_type": "execute_result"
    }
   ],
   "source": [
    "array_2d"
   ]
  },
  {
   "cell_type": "code",
   "execution_count": 30,
   "id": "071cbedf",
   "metadata": {},
   "outputs": [
    {
     "data": {
      "text/plain": [
       "array([[ 50,  74,  62],\n",
       "       [ 52,  91,  70],\n",
       "       [ 67, 118, 109]])"
      ]
     },
     "execution_count": 30,
     "metadata": {},
     "output_type": "execute_result"
    }
   ],
   "source": [
    "array_2d.dot(array_2d)"
   ]
  },
  {
   "cell_type": "code",
   "execution_count": 31,
   "id": "23da932e",
   "metadata": {},
   "outputs": [
    {
     "data": {
      "text/plain": [
       "array([[2, 7, 1],\n",
       "       [6, 5, 8],\n",
       "       [4, 3, 9]])"
      ]
     },
     "execution_count": 31,
     "metadata": {},
     "output_type": "execute_result"
    }
   ],
   "source": [
    "array_2d.T"
   ]
  },
  {
   "cell_type": "code",
   "execution_count": 32,
   "id": "5a90ac5c",
   "metadata": {},
   "outputs": [
    {
     "data": {
      "text/plain": [
       "45"
      ]
     },
     "execution_count": 32,
     "metadata": {},
     "output_type": "execute_result"
    }
   ],
   "source": [
    "array_2d.sum()"
   ]
  },
  {
   "cell_type": "code",
   "execution_count": 33,
   "id": "765badf7",
   "metadata": {},
   "outputs": [
    {
     "data": {
      "text/plain": [
       "array([10, 19, 16])"
      ]
     },
     "execution_count": 33,
     "metadata": {},
     "output_type": "execute_result"
    }
   ],
   "source": [
    "array_2d.sum(axis=0)"
   ]
  },
  {
   "cell_type": "code",
   "execution_count": 35,
   "id": "c29f1421",
   "metadata": {},
   "outputs": [
    {
     "data": {
      "text/plain": [
       "array([12, 15, 18])"
      ]
     },
     "execution_count": 35,
     "metadata": {},
     "output_type": "execute_result"
    }
   ],
   "source": [
    "array_2d.sum(axis=1)"
   ]
  },
  {
   "cell_type": "code",
   "execution_count": 38,
   "id": "965d4aa9",
   "metadata": {},
   "outputs": [
    {
     "data": {
      "text/plain": [
       "array([4., 5., 6.])"
      ]
     },
     "execution_count": 38,
     "metadata": {},
     "output_type": "execute_result"
    }
   ],
   "source": [
    "array_2d.mean()"
   ]
  },
  {
   "cell_type": "code",
   "execution_count": 39,
   "id": "b4d3f209",
   "metadata": {},
   "outputs": [
    {
     "data": {
      "text/plain": [
       "array([4., 5., 6.])"
      ]
     },
     "execution_count": 39,
     "metadata": {},
     "output_type": "execute_result"
    }
   ],
   "source": [
    "array_2d.mean(axis=1)"
   ]
  },
  {
   "cell_type": "code",
   "execution_count": 40,
   "id": "56689bd4",
   "metadata": {},
   "outputs": [
    {
     "data": {
      "text/plain": [
       "2.581988897471611"
      ]
     },
     "execution_count": 40,
     "metadata": {},
     "output_type": "execute_result"
    }
   ],
   "source": [
    "array_2d.std()"
   ]
  },
  {
   "cell_type": "markdown",
   "id": "385e7996",
   "metadata": {},
   "source": [
    "universal functions {UFUNCs} (mod, sin, cos, greater, less, logical_and, logical_or)"
   ]
  },
  {
   "cell_type": "code",
   "execution_count": 41,
   "id": "6fa7324c",
   "metadata": {},
   "outputs": [],
   "source": [
    "array_2d = np.array([[2,6,4],[7,5,3],[1,8,9]])"
   ]
  },
  {
   "cell_type": "code",
   "execution_count": 42,
   "id": "696d3cca",
   "metadata": {},
   "outputs": [
    {
     "data": {
      "text/plain": [
       "array([[2, 6, 4],\n",
       "       [7, 5, 3],\n",
       "       [1, 8, 9]])"
      ]
     },
     "execution_count": 42,
     "metadata": {},
     "output_type": "execute_result"
    }
   ],
   "source": [
    "array_2d"
   ]
  },
  {
   "cell_type": "code",
   "execution_count": 43,
   "id": "15d0461e",
   "metadata": {},
   "outputs": [
    {
     "data": {
      "text/plain": [
       "array([[2, 2, 0],\n",
       "       [3, 1, 3],\n",
       "       [1, 0, 1]])"
      ]
     },
     "execution_count": 43,
     "metadata": {},
     "output_type": "execute_result"
    }
   ],
   "source": [
    "np.mod(array_2d, 4)"
   ]
  },
  {
   "cell_type": "code",
   "execution_count": 44,
   "id": "897355de",
   "metadata": {},
   "outputs": [
    {
     "data": {
      "text/plain": [
       "array([[ 0.90929743, -0.2794155 , -0.7568025 ],\n",
       "       [ 0.6569866 , -0.95892427,  0.14112001],\n",
       "       [ 0.84147098,  0.98935825,  0.41211849]])"
      ]
     },
     "execution_count": 44,
     "metadata": {},
     "output_type": "execute_result"
    }
   ],
   "source": [
    "np.sin(array_2d)"
   ]
  },
  {
   "cell_type": "code",
   "execution_count": 45,
   "id": "ce9fbf07",
   "metadata": {},
   "outputs": [
    {
     "data": {
      "text/plain": [
       "array([[-0.41614684,  0.96017029, -0.65364362],\n",
       "       [ 0.75390225,  0.28366219, -0.9899925 ],\n",
       "       [ 0.54030231, -0.14550003, -0.91113026]])"
      ]
     },
     "execution_count": 45,
     "metadata": {},
     "output_type": "execute_result"
    }
   ],
   "source": [
    "np.cos(array_2d)"
   ]
  },
  {
   "cell_type": "code",
   "execution_count": 46,
   "id": "0522170e",
   "metadata": {},
   "outputs": [
    {
     "data": {
      "text/plain": [
       "array([[False, False, False],\n",
       "       [False, False, False],\n",
       "       [False, False,  True]])"
      ]
     },
     "execution_count": 46,
     "metadata": {},
     "output_type": "execute_result"
    }
   ],
   "source": [
    "np.greater(array_2d, 8)"
   ]
  },
  {
   "cell_type": "code",
   "execution_count": 49,
   "id": "0476d760",
   "metadata": {},
   "outputs": [
    {
     "data": {
      "text/plain": [
       "array([[ True, False, False],\n",
       "       [False, False, False],\n",
       "       [ True, False, False]])"
      ]
     },
     "execution_count": 49,
     "metadata": {},
     "output_type": "execute_result"
    }
   ],
   "source": [
    "np.less(array_2d, 3)"
   ]
  },
  {
   "cell_type": "code",
   "execution_count": 50,
   "id": "9573fa52",
   "metadata": {},
   "outputs": [
    {
     "data": {
      "text/plain": [
       "array([[ True, False, False],\n",
       "       [False, False, False],\n",
       "       [ True, False,  True]])"
      ]
     },
     "execution_count": 50,
     "metadata": {},
     "output_type": "execute_result"
    }
   ],
   "source": [
    "np.logical_or(np.greater(array_2d, 8), np.less(array_2d,3))"
   ]
  },
  {
   "cell_type": "code",
   "execution_count": 51,
   "id": "42e87d85",
   "metadata": {},
   "outputs": [
    {
     "data": {
      "text/plain": [
       "array([[ True, False, False],\n",
       "       [False, False, False],\n",
       "       [ True, False,  True]])"
      ]
     },
     "execution_count": 51,
     "metadata": {},
     "output_type": "execute_result"
    }
   ],
   "source": [
    "np.logical_or(array_2d > 8, array_2d < 3)"
   ]
  },
  {
   "cell_type": "code",
   "execution_count": 52,
   "id": "e733f30a",
   "metadata": {},
   "outputs": [
    {
     "data": {
      "text/plain": [
       "array([[False,  True,  True],\n",
       "       [ True,  True, False],\n",
       "       [False, False, False]])"
      ]
     },
     "execution_count": 52,
     "metadata": {},
     "output_type": "execute_result"
    }
   ],
   "source": [
    "np.logical_and(array_2d > 3, array_2d < 8)"
   ]
  },
  {
   "cell_type": "code",
   "execution_count": 53,
   "id": "f4cf0d15",
   "metadata": {},
   "outputs": [
    {
     "data": {
      "text/plain": [
       "array([[2, 6, 4],\n",
       "       [7, 5, 3],\n",
       "       [1, 8, 9]])"
      ]
     },
     "execution_count": 53,
     "metadata": {},
     "output_type": "execute_result"
    }
   ],
   "source": [
    "array_2d"
   ]
  },
  {
   "cell_type": "markdown",
   "id": "3f7d1a25",
   "metadata": {},
   "source": [
    "[https://numpy.org/doc/stable/reference/ufuncs.html#available-ufuncs](https://numpy.org/doc/stable/reference/ufuncs.html#available-ufuncs)"
   ]
  }
 ],
 "metadata": {
  "kernelspec": {
   "display_name": "Python 3",
   "language": "python",
   "name": "python3"
  },
  "language_info": {
   "codemirror_mode": {
    "name": "ipython",
    "version": 3
   },
   "file_extension": ".py",
   "mimetype": "text/x-python",
   "name": "python",
   "nbconvert_exporter": "python",
   "pygments_lexer": "ipython3",
   "version": "3.9.2"
  }
 },
 "nbformat": 4,
 "nbformat_minor": 5
}
