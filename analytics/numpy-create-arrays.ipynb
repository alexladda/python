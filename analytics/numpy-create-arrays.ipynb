{
 "cells": [
  {
   "cell_type": "code",
   "execution_count": 2,
   "id": "2abc8b06",
   "metadata": {},
   "outputs": [],
   "source": [
    "import numpy as np"
   ]
  },
  {
   "cell_type": "markdown",
   "id": "2336144a",
   "metadata": {},
   "source": [
    "# Creating Numpy Arrays"
   ]
  },
  {
   "cell_type": "markdown",
   "id": "507f35e0",
   "metadata": {},
   "source": [
    "arrays from lists (np.array)"
   ]
  },
  {
   "cell_type": "code",
   "execution_count": 3,
   "id": "5b2a2427",
   "metadata": {},
   "outputs": [],
   "source": [
    "list_1d = [5,3,8]"
   ]
  },
  {
   "cell_type": "code",
   "execution_count": 4,
   "id": "77042e9f",
   "metadata": {},
   "outputs": [
    {
     "data": {
      "text/plain": [
       "array([5, 3, 8])"
      ]
     },
     "execution_count": 4,
     "metadata": {},
     "output_type": "execute_result"
    }
   ],
   "source": [
    "np.array(list_1d)"
   ]
  },
  {
   "cell_type": "code",
   "execution_count": 5,
   "id": "92339f8a",
   "metadata": {},
   "outputs": [],
   "source": [
    "list_2d = [[3,7,18],[6,3,1]]"
   ]
  },
  {
   "cell_type": "code",
   "execution_count": 6,
   "id": "e71e51bd",
   "metadata": {},
   "outputs": [
    {
     "data": {
      "text/plain": [
       "array([[ 3,  7, 18],\n",
       "       [ 6,  3,  1]])"
      ]
     },
     "execution_count": 6,
     "metadata": {},
     "output_type": "execute_result"
    }
   ],
   "source": [
    "np.array(list_2d)"
   ]
  },
  {
   "cell_type": "markdown",
   "id": "a0404cd8",
   "metadata": {},
   "source": [
    "arrays from ranges (np.arange)"
   ]
  },
  {
   "cell_type": "code",
   "execution_count": 7,
   "id": "034c9a2c",
   "metadata": {},
   "outputs": [
    {
     "data": {
      "text/plain": [
       "array([3, 4, 5, 6, 7, 8, 9])"
      ]
     },
     "execution_count": 7,
     "metadata": {},
     "output_type": "execute_result"
    }
   ],
   "source": [
    "np.arange(3,10)"
   ]
  },
  {
   "cell_type": "code",
   "execution_count": 8,
   "id": "bcfcfbcc",
   "metadata": {},
   "outputs": [
    {
     "data": {
      "text/plain": [
       "array([ 3. ,  5.5,  8. , 10.5, 13. , 15.5, 18. , 20.5, 23. , 25.5, 28. ,\n",
       "       30.5, 33. , 35.5])"
      ]
     },
     "execution_count": 8,
     "metadata": {},
     "output_type": "execute_result"
    }
   ],
   "source": [
    "np.arange(3,38,2.5)"
   ]
  },
  {
   "cell_type": "markdown",
   "id": "57b84c1a",
   "metadata": {},
   "source": [
    "arrays from ranges (np.linspace)"
   ]
  },
  {
   "cell_type": "code",
   "execution_count": 10,
   "id": "86746af5",
   "metadata": {},
   "outputs": [
    {
     "data": {
      "text/plain": [
       "array([0.   , 0.125, 0.25 , 0.375, 0.5  , 0.625, 0.75 , 0.875, 1.   ])"
      ]
     },
     "execution_count": 10,
     "metadata": {},
     "output_type": "execute_result"
    }
   ],
   "source": [
    "np.linspace(0,1,9)"
   ]
  },
  {
   "cell_type": "code",
   "execution_count": 18,
   "id": "ffb3164e",
   "metadata": {},
   "outputs": [
    {
     "data": {
      "text/plain": [
       "array([[ 1.,  0.],\n",
       "       [ 2.,  1.],\n",
       "       [ 3.,  2.],\n",
       "       [ 4.,  3.],\n",
       "       [ 5.,  4.],\n",
       "       [ 6.,  5.],\n",
       "       [ 7.,  6.],\n",
       "       [ 8.,  7.],\n",
       "       [ 9.,  8.],\n",
       "       [10.,  9.]])"
      ]
     },
     "execution_count": 18,
     "metadata": {},
     "output_type": "execute_result"
    }
   ],
   "source": [
    "np.linspace((1,0),(10,9),10)"
   ]
  },
  {
   "cell_type": "markdown",
   "id": "e8553600",
   "metadata": {},
   "source": [
    "arrays with random valuse (np.random.randn)"
   ]
  },
  {
   "cell_type": "code",
   "execution_count": 35,
   "id": "1491b953",
   "metadata": {},
   "outputs": [
    {
     "data": {
      "text/plain": [
       "array([0.23981454, 0.46546635, 0.39973389, 0.61761275, 0.11857117])"
      ]
     },
     "execution_count": 35,
     "metadata": {},
     "output_type": "execute_result"
    }
   ],
   "source": [
    "np.random.rand(5)"
   ]
  },
  {
   "cell_type": "code",
   "execution_count": 34,
   "id": "fd7153c0",
   "metadata": {},
   "outputs": [
    {
     "data": {
      "text/plain": [
       "array([ 1.05861474, -0.88602032, -0.63016839,  1.33922708, -0.54670101])"
      ]
     },
     "execution_count": 34,
     "metadata": {},
     "output_type": "execute_result"
    }
   ],
   "source": [
    "np.random.randn(5)"
   ]
  },
  {
   "cell_type": "code",
   "execution_count": 23,
   "id": "a4e2041e",
   "metadata": {},
   "outputs": [
    {
     "data": {
      "text/plain": [
       "array([[0.43852042, 0.13650097, 0.78844174, 0.59058793, 0.69542437],\n",
       "       [0.41307405, 0.84075618, 0.42324987, 0.01739767, 0.43005174],\n",
       "       [0.0682905 , 0.8564977 , 0.76812205, 0.9390252 , 0.04771192]])"
      ]
     },
     "execution_count": 23,
     "metadata": {},
     "output_type": "execute_result"
    }
   ],
   "source": [
    "np.random.rand(3,5)"
   ]
  },
  {
   "cell_type": "code",
   "execution_count": 33,
   "id": "99be387a",
   "metadata": {},
   "outputs": [
    {
     "data": {
      "text/plain": [
       "array([[-0.40471028,  2.43718018, -0.84214609, -1.94038892, -1.19518574],\n",
       "       [-1.04436437,  0.04491387,  0.52800654,  0.58477567, -2.20479292],\n",
       "       [ 0.15631502, -1.99878515, -0.21035089, -0.55413127, -2.21679822]])"
      ]
     },
     "execution_count": 33,
     "metadata": {},
     "output_type": "execute_result"
    }
   ],
   "source": [
    "np.random.randn(3,5)"
   ]
  },
  {
   "cell_type": "markdown",
   "id": "092e4ce1",
   "metadata": {},
   "source": [
    "standard arrays (zeros, ones, identity matrix)"
   ]
  },
  {
   "cell_type": "code",
   "execution_count": 36,
   "id": "96fbc25e",
   "metadata": {},
   "outputs": [
    {
     "data": {
      "text/plain": [
       "array([0., 0., 0.])"
      ]
     },
     "execution_count": 36,
     "metadata": {},
     "output_type": "execute_result"
    }
   ],
   "source": [
    "np.zeros(3)"
   ]
  },
  {
   "cell_type": "code",
   "execution_count": 40,
   "id": "d85605bb",
   "metadata": {},
   "outputs": [
    {
     "data": {
      "text/plain": [
       "array([[0., 0., 0.],\n",
       "       [0., 0., 0.],\n",
       "       [0., 0., 0.]])"
      ]
     },
     "execution_count": 40,
     "metadata": {},
     "output_type": "execute_result"
    }
   ],
   "source": [
    "np.zeros((3,3))"
   ]
  },
  {
   "cell_type": "code",
   "execution_count": 39,
   "id": "aa83c340",
   "metadata": {},
   "outputs": [
    {
     "data": {
      "text/plain": [
       "array([1., 1., 1.])"
      ]
     },
     "execution_count": 39,
     "metadata": {},
     "output_type": "execute_result"
    }
   ],
   "source": [
    "np.ones(3)"
   ]
  },
  {
   "cell_type": "code",
   "execution_count": 42,
   "id": "71fb3df2",
   "metadata": {},
   "outputs": [
    {
     "data": {
      "text/plain": [
       "array([[1., 1., 1.],\n",
       "       [1., 1., 1.],\n",
       "       [1., 1., 1.]])"
      ]
     },
     "execution_count": 42,
     "metadata": {},
     "output_type": "execute_result"
    }
   ],
   "source": [
    "np.ones((3,3))"
   ]
  },
  {
   "cell_type": "code",
   "execution_count": 43,
   "id": "07bee8c3",
   "metadata": {},
   "outputs": [
    {
     "data": {
      "text/plain": [
       "array([[1., 0., 0.],\n",
       "       [0., 1., 0.],\n",
       "       [0., 0., 1.]])"
      ]
     },
     "execution_count": 43,
     "metadata": {},
     "output_type": "execute_result"
    }
   ],
   "source": [
    "np.eye(3)"
   ]
  },
  {
   "cell_type": "markdown",
   "id": "d88495cd",
   "metadata": {},
   "source": [
    "Reshape Arrays"
   ]
  },
  {
   "cell_type": "code",
   "execution_count": 44,
   "id": "28b70a8a",
   "metadata": {},
   "outputs": [],
   "source": [
    "my_array = np.random.randn(12)"
   ]
  },
  {
   "cell_type": "code",
   "execution_count": 45,
   "id": "c87d4235",
   "metadata": {},
   "outputs": [
    {
     "data": {
      "text/plain": [
       "array([-0.31915962, -0.82718171, -0.04166803, -1.18786117,  0.30210124,\n",
       "       -1.5962689 ,  0.76168378, -0.4539279 ,  0.70607508, -1.83574581,\n",
       "        0.53394357,  1.69773039])"
      ]
     },
     "execution_count": 45,
     "metadata": {},
     "output_type": "execute_result"
    }
   ],
   "source": [
    "my_array"
   ]
  },
  {
   "cell_type": "code",
   "execution_count": 47,
   "id": "d0a52922",
   "metadata": {},
   "outputs": [
    {
     "data": {
      "text/plain": [
       "(12,)"
      ]
     },
     "execution_count": 47,
     "metadata": {},
     "output_type": "execute_result"
    }
   ],
   "source": [
    "my_array.shape"
   ]
  },
  {
   "cell_type": "code",
   "execution_count": 49,
   "id": "9267c8bf",
   "metadata": {},
   "outputs": [
    {
     "data": {
      "text/plain": [
       "array([[-0.31915962, -0.82718171, -0.04166803, -1.18786117],\n",
       "       [ 0.30210124, -1.5962689 ,  0.76168378, -0.4539279 ],\n",
       "       [ 0.70607508, -1.83574581,  0.53394357,  1.69773039]])"
      ]
     },
     "execution_count": 49,
     "metadata": {},
     "output_type": "execute_result"
    }
   ],
   "source": [
    "my_array.reshape(3,4)"
   ]
  },
  {
   "cell_type": "code",
   "execution_count": null,
   "id": "3030a44a",
   "metadata": {},
   "outputs": [],
   "source": []
  }
 ],
 "metadata": {
  "kernelspec": {
   "display_name": "Python 3",
   "language": "python",
   "name": "python3"
  },
  "language_info": {
   "codemirror_mode": {
    "name": "ipython",
    "version": 3
   },
   "file_extension": ".py",
   "mimetype": "text/x-python",
   "name": "python",
   "nbconvert_exporter": "python",
   "pygments_lexer": "ipython3",
   "version": "3.9.2"
  }
 },
 "nbformat": 4,
 "nbformat_minor": 5
}
