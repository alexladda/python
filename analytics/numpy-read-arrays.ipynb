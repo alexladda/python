{
 "cells": [
  {
   "cell_type": "markdown",
   "id": "ee236508",
   "metadata": {},
   "source": [
    "# reading from arrays"
   ]
  },
  {
   "cell_type": "markdown",
   "id": "6a95c7f0",
   "metadata": {},
   "source": [
    "reading from 1-d arrays using index values"
   ]
  },
  {
   "cell_type": "code",
   "execution_count": 2,
   "id": "91554ad4",
   "metadata": {},
   "outputs": [],
   "source": [
    "import numpy as np"
   ]
  },
  {
   "cell_type": "code",
   "execution_count": 4,
   "id": "b9f38a9d",
   "metadata": {},
   "outputs": [],
   "source": [
    "my_array = np.arange(3,9)"
   ]
  },
  {
   "cell_type": "code",
   "execution_count": 5,
   "id": "a72b5a04",
   "metadata": {},
   "outputs": [
    {
     "data": {
      "text/plain": [
       "array([3, 4, 5, 6, 7, 8])"
      ]
     },
     "execution_count": 5,
     "metadata": {},
     "output_type": "execute_result"
    }
   ],
   "source": [
    "my_array"
   ]
  },
  {
   "cell_type": "code",
   "execution_count": 6,
   "id": "7a5140a3",
   "metadata": {},
   "outputs": [
    {
     "data": {
      "text/plain": [
       "5"
      ]
     },
     "execution_count": 6,
     "metadata": {},
     "output_type": "execute_result"
    }
   ],
   "source": [
    "my_array[2]"
   ]
  },
  {
   "cell_type": "code",
   "execution_count": 7,
   "id": "8cb53958",
   "metadata": {},
   "outputs": [
    {
     "data": {
      "text/plain": [
       "array([5, 6])"
      ]
     },
     "execution_count": 7,
     "metadata": {},
     "output_type": "execute_result"
    }
   ],
   "source": [
    "my_array[2:4]"
   ]
  },
  {
   "cell_type": "code",
   "execution_count": 8,
   "id": "a96ccca5",
   "metadata": {},
   "outputs": [
    {
     "data": {
      "text/plain": [
       "array([3, 4, 5, 6, 7])"
      ]
     },
     "execution_count": 8,
     "metadata": {},
     "output_type": "execute_result"
    }
   ],
   "source": [
    "my_array[:5]"
   ]
  },
  {
   "cell_type": "code",
   "execution_count": 9,
   "id": "bc663652",
   "metadata": {},
   "outputs": [
    {
     "data": {
      "text/plain": [
       "array([5, 6, 7, 8])"
      ]
     },
     "execution_count": 9,
     "metadata": {},
     "output_type": "execute_result"
    }
   ],
   "source": [
    "my_array[2:]"
   ]
  },
  {
   "cell_type": "code",
   "execution_count": 11,
   "id": "9cd14ed3",
   "metadata": {},
   "outputs": [
    {
     "data": {
      "text/plain": [
       "5"
      ]
     },
     "execution_count": 11,
     "metadata": {},
     "output_type": "execute_result"
    }
   ],
   "source": [
    "my_array[-4]"
   ]
  },
  {
   "cell_type": "code",
   "execution_count": 12,
   "id": "66d5474f",
   "metadata": {},
   "outputs": [
    {
     "data": {
      "text/plain": [
       "array([3, 4, 5])"
      ]
     },
     "execution_count": 12,
     "metadata": {},
     "output_type": "execute_result"
    }
   ],
   "source": [
    "my_array[:-3]"
   ]
  },
  {
   "cell_type": "markdown",
   "id": "e8343c0d",
   "metadata": {},
   "source": [
    "Creating a **Slice** vs a **Copy** of arrays"
   ]
  },
  {
   "cell_type": "code",
   "execution_count": 13,
   "id": "85d671ec",
   "metadata": {},
   "outputs": [],
   "source": [
    "slice_my_array = my_array[1:3]"
   ]
  },
  {
   "cell_type": "code",
   "execution_count": 14,
   "id": "62b0b545",
   "metadata": {},
   "outputs": [
    {
     "data": {
      "text/plain": [
       "array([4, 5])"
      ]
     },
     "execution_count": 14,
     "metadata": {},
     "output_type": "execute_result"
    }
   ],
   "source": [
    "slice_my_array"
   ]
  },
  {
   "cell_type": "code",
   "execution_count": 15,
   "id": "0dcbb4df",
   "metadata": {},
   "outputs": [],
   "source": [
    "slice_my_array[:] = 25"
   ]
  },
  {
   "cell_type": "code",
   "execution_count": 16,
   "id": "b1f1d82e",
   "metadata": {},
   "outputs": [
    {
     "data": {
      "text/plain": [
       "array([25, 25])"
      ]
     },
     "execution_count": 16,
     "metadata": {},
     "output_type": "execute_result"
    }
   ],
   "source": [
    "slice_my_array"
   ]
  },
  {
   "cell_type": "code",
   "execution_count": 17,
   "id": "d7271196",
   "metadata": {},
   "outputs": [
    {
     "data": {
      "text/plain": [
       "array([ 3, 25, 25,  6,  7,  8])"
      ]
     },
     "execution_count": 17,
     "metadata": {},
     "output_type": "execute_result"
    }
   ],
   "source": [
    "my_array"
   ]
  },
  {
   "cell_type": "code",
   "execution_count": 25,
   "id": "54b21348",
   "metadata": {},
   "outputs": [],
   "source": [
    "copy_my_array = my_array.copy()"
   ]
  },
  {
   "cell_type": "code",
   "execution_count": 26,
   "id": "c24de58a",
   "metadata": {},
   "outputs": [
    {
     "data": {
      "text/plain": [
       "array([ 3, 25, 25,  6,  7,  8])"
      ]
     },
     "execution_count": 26,
     "metadata": {},
     "output_type": "execute_result"
    }
   ],
   "source": [
    "copy_my_array"
   ]
  },
  {
   "cell_type": "code",
   "execution_count": 27,
   "id": "6a0bc6c1",
   "metadata": {},
   "outputs": [],
   "source": [
    "copy_my_array[1] = 10"
   ]
  },
  {
   "cell_type": "code",
   "execution_count": 28,
   "id": "74105d84",
   "metadata": {},
   "outputs": [
    {
     "data": {
      "text/plain": [
       "array([ 3, 10, 25,  6,  7,  8])"
      ]
     },
     "execution_count": 28,
     "metadata": {},
     "output_type": "execute_result"
    }
   ],
   "source": [
    "copy_my_array"
   ]
  },
  {
   "cell_type": "code",
   "execution_count": 29,
   "id": "3c64898b",
   "metadata": {},
   "outputs": [
    {
     "data": {
      "text/plain": [
       "array([ 3, 25, 25,  6,  7,  8])"
      ]
     },
     "execution_count": 29,
     "metadata": {},
     "output_type": "execute_result"
    }
   ],
   "source": [
    "my_array"
   ]
  },
  {
   "cell_type": "markdown",
   "id": "977b886f",
   "metadata": {},
   "source": [
    "reading form 2-d arrays using **index values**"
   ]
  },
  {
   "cell_type": "code",
   "execution_count": 32,
   "id": "aaca2ebe",
   "metadata": {},
   "outputs": [],
   "source": [
    "my_2d_array = np.array([[2,3,4],[5,7,9],[11,22,33]])"
   ]
  },
  {
   "cell_type": "code",
   "execution_count": 33,
   "id": "379d3aef",
   "metadata": {},
   "outputs": [
    {
     "data": {
      "text/plain": [
       "array([[ 2,  3,  4],\n",
       "       [ 5,  7,  9],\n",
       "       [11, 22, 33]])"
      ]
     },
     "execution_count": 33,
     "metadata": {},
     "output_type": "execute_result"
    }
   ],
   "source": [
    "my_2d_array"
   ]
  },
  {
   "cell_type": "code",
   "execution_count": 34,
   "id": "d13917c9",
   "metadata": {},
   "outputs": [
    {
     "data": {
      "text/plain": [
       "array([5, 7, 9])"
      ]
     },
     "execution_count": 34,
     "metadata": {},
     "output_type": "execute_result"
    }
   ],
   "source": [
    "my_2d_array[1]"
   ]
  },
  {
   "cell_type": "code",
   "execution_count": 35,
   "id": "20bba0e0",
   "metadata": {},
   "outputs": [
    {
     "data": {
      "text/plain": [
       "9"
      ]
     },
     "execution_count": 35,
     "metadata": {},
     "output_type": "execute_result"
    }
   ],
   "source": [
    "my_2d_array[1][2]"
   ]
  },
  {
   "cell_type": "code",
   "execution_count": 36,
   "id": "3c228da3",
   "metadata": {},
   "outputs": [
    {
     "data": {
      "text/plain": [
       "9"
      ]
     },
     "execution_count": 36,
     "metadata": {},
     "output_type": "execute_result"
    }
   ],
   "source": [
    "my_2d_array[1,2]"
   ]
  },
  {
   "cell_type": "code",
   "execution_count": 37,
   "id": "0ca2693d",
   "metadata": {},
   "outputs": [
    {
     "data": {
      "text/plain": [
       "array([ 4,  9, 33])"
      ]
     },
     "execution_count": 37,
     "metadata": {},
     "output_type": "execute_result"
    }
   ],
   "source": [
    "my_2d_array[:,2]"
   ]
  },
  {
   "cell_type": "code",
   "execution_count": 38,
   "id": "ac4e6062",
   "metadata": {},
   "outputs": [
    {
     "data": {
      "text/plain": [
       "array([[2, 3],\n",
       "       [5, 7]])"
      ]
     },
     "execution_count": 38,
     "metadata": {},
     "output_type": "execute_result"
    }
   ],
   "source": [
    "my_2d_array[:2,:2]"
   ]
  },
  {
   "cell_type": "markdown",
   "id": "a416a990",
   "metadata": {},
   "source": [
    "reading form 1-d arrays using **conditional values**"
   ]
  },
  {
   "cell_type": "code",
   "execution_count": 39,
   "id": "7785bf66",
   "metadata": {},
   "outputs": [],
   "source": [
    "rand_array = np.random.randn(10)"
   ]
  },
  {
   "cell_type": "code",
   "execution_count": 40,
   "id": "a5b0972f",
   "metadata": {},
   "outputs": [
    {
     "data": {
      "text/plain": [
       "array([-0.8455684 , -2.93812832, -2.28816608, -0.90475614, -0.04683048,\n",
       "        1.08220552,  1.13084226, -1.07828846,  0.6166009 , -0.46648784])"
      ]
     },
     "execution_count": 40,
     "metadata": {},
     "output_type": "execute_result"
    }
   ],
   "source": [
    "rand_array"
   ]
  },
  {
   "cell_type": "code",
   "execution_count": 42,
   "id": "136fc1dc",
   "metadata": {},
   "outputs": [],
   "source": [
    "bool_array = rand_array > 0"
   ]
  },
  {
   "cell_type": "code",
   "execution_count": 43,
   "id": "3abcaf91",
   "metadata": {},
   "outputs": [
    {
     "data": {
      "text/plain": [
       "array([False, False, False, False, False,  True,  True, False,  True,\n",
       "       False])"
      ]
     },
     "execution_count": 43,
     "metadata": {},
     "output_type": "execute_result"
    }
   ],
   "source": [
    "bool_array"
   ]
  },
  {
   "cell_type": "code",
   "execution_count": 46,
   "id": "004db931",
   "metadata": {},
   "outputs": [
    {
     "data": {
      "text/plain": [
       "array([1.08220552, 1.13084226, 0.6166009 ])"
      ]
     },
     "execution_count": 46,
     "metadata": {},
     "output_type": "execute_result"
    }
   ],
   "source": [
    "rand_array[bool_array == True]"
   ]
  },
  {
   "cell_type": "code",
   "execution_count": 47,
   "id": "87e2aec3",
   "metadata": {},
   "outputs": [
    {
     "data": {
      "text/plain": [
       "array([1.08220552, 1.13084226, 0.6166009 ])"
      ]
     },
     "execution_count": 47,
     "metadata": {},
     "output_type": "execute_result"
    }
   ],
   "source": [
    "rand_array[rand_array > 0]"
   ]
  },
  {
   "cell_type": "markdown",
   "id": "589720da",
   "metadata": {},
   "source": [
    "reading from 2-d arrays using **conditionals**"
   ]
  },
  {
   "cell_type": "code",
   "execution_count": 51,
   "id": "16a02336",
   "metadata": {},
   "outputs": [],
   "source": [
    "rand_2d_array = np.random.randn(15).reshape(3,5)"
   ]
  },
  {
   "cell_type": "code",
   "execution_count": 52,
   "id": "f76c6cde",
   "metadata": {},
   "outputs": [
    {
     "data": {
      "text/plain": [
       "array([[-0.84910513,  1.77255888,  1.50155792,  0.85151094,  1.51758252],\n",
       "       [-1.11800144, -0.50702123, -0.33303623, -0.68097104,  0.63141839],\n",
       "       [-1.46325295,  1.32164847, -0.42825608, -1.31453641, -1.13515136]])"
      ]
     },
     "execution_count": 52,
     "metadata": {},
     "output_type": "execute_result"
    }
   ],
   "source": [
    "rand_2d_array"
   ]
  },
  {
   "cell_type": "code",
   "execution_count": 54,
   "id": "6eb57837",
   "metadata": {},
   "outputs": [],
   "source": [
    "bool_2d_array = rand_2d_array > 0"
   ]
  },
  {
   "cell_type": "code",
   "execution_count": 55,
   "id": "fbb9f702",
   "metadata": {},
   "outputs": [
    {
     "data": {
      "text/plain": [
       "array([[False,  True,  True,  True,  True],\n",
       "       [False, False, False, False,  True],\n",
       "       [False,  True, False, False, False]])"
      ]
     },
     "execution_count": 55,
     "metadata": {},
     "output_type": "execute_result"
    }
   ],
   "source": [
    "bool_2d_array"
   ]
  },
  {
   "cell_type": "code",
   "execution_count": 56,
   "id": "4a92bd03",
   "metadata": {},
   "outputs": [
    {
     "data": {
      "text/plain": [
       "array([1.77255888, 1.50155792, 0.85151094, 1.51758252, 0.63141839,\n",
       "       1.32164847])"
      ]
     },
     "execution_count": 56,
     "metadata": {},
     "output_type": "execute_result"
    }
   ],
   "source": [
    "rand_2d_array[bool_2d_array]"
   ]
  },
  {
   "cell_type": "code",
   "execution_count": 57,
   "id": "3c1ae582",
   "metadata": {},
   "outputs": [
    {
     "data": {
      "text/plain": [
       "array([ True, False,  True])"
      ]
     },
     "execution_count": 57,
     "metadata": {},
     "output_type": "execute_result"
    }
   ],
   "source": [
    "bool_2d_array[:,1]"
   ]
  },
  {
   "cell_type": "code",
   "execution_count": 67,
   "id": "c2dc0848",
   "metadata": {},
   "outputs": [
    {
     "data": {
      "text/plain": [
       "array([[-0.84910513,  1.77255888,  1.50155792,  0.85151094,  1.51758252],\n",
       "       [-1.46325295,  1.32164847, -0.42825608, -1.31453641, -1.13515136]])"
      ]
     },
     "execution_count": 67,
     "metadata": {},
     "output_type": "execute_result"
    }
   ],
   "source": [
    "rand_2d_array[bool_2d_array[:,1]]"
   ]
  },
  {
   "cell_type": "code",
   "execution_count": 69,
   "id": "6562e11b",
   "metadata": {},
   "outputs": [
    {
     "data": {
      "text/plain": [
       "array([False, False, False, False,  True])"
      ]
     },
     "execution_count": 69,
     "metadata": {},
     "output_type": "execute_result"
    }
   ],
   "source": [
    "bool_2d_array[1,:]"
   ]
  },
  {
   "cell_type": "code",
   "execution_count": 61,
   "id": "4fe77fac",
   "metadata": {},
   "outputs": [
    {
     "data": {
      "text/plain": [
       "array([[ 1.51758252],\n",
       "       [ 0.63141839],\n",
       "       [-1.13515136]])"
      ]
     },
     "execution_count": 61,
     "metadata": {},
     "output_type": "execute_result"
    }
   ],
   "source": [
    "rand_2d_array[:,bool_2d_array[1,:]]"
   ]
  },
  {
   "cell_type": "code",
   "execution_count": null,
   "id": "e2abf0cf",
   "metadata": {},
   "outputs": [],
   "source": []
  }
 ],
 "metadata": {
  "kernelspec": {
   "display_name": "Python 3",
   "language": "python",
   "name": "python3"
  },
  "language_info": {
   "codemirror_mode": {
    "name": "ipython",
    "version": 3
   },
   "file_extension": ".py",
   "mimetype": "text/x-python",
   "name": "python",
   "nbconvert_exporter": "python",
   "pygments_lexer": "ipython3",
   "version": "3.9.2"
  }
 },
 "nbformat": 4,
 "nbformat_minor": 5
}
